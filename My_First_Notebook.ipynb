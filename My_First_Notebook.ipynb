{
  "nbformat": 4,
  "nbformat_minor": 0,
  "metadata": {
    "colab": {
      "name": "My First Notebook",
      "provenance": [],
      "toc_visible": true,
      "authorship_tag": "ABX9TyNXxl0H8o1IjPZ08Ab9LnHF",
      "include_colab_link": true
    },
    "kernelspec": {
      "name": "python3",
      "display_name": "Python 3"
    },
    "language_info": {
      "name": "python"
    }
  },
  "cells": [
    {
      "cell_type": "markdown",
      "metadata": {
        "id": "view-in-github",
        "colab_type": "text"
      },
      "source": [
        "<a href=\"https://colab.research.google.com/github/K-Fukasawa/my-notebooks-2022-summer/blob/main/My_First_Notebook.ipynb\" target=\"_parent\"><img src=\"https://colab.research.google.com/assets/colab-badge.svg\" alt=\"Open In Colab\"/></a>"
      ]
    },
    {
      "cell_type": "markdown",
      "source": [
        "# My Heading\n",
        "\n",
        "writing normal sentences.\n",
        "\n",
        "## Heading Level 2\n",
        "\n",
        "\n",
        "here is a list:\n",
        "\n",
        "  + Item 1\n",
        "  + Item 2\n",
        "  + Item 3\n",
        "\n",
        "\n",
        "numbered list:\n",
        "\n",
        "  1. Item 1\n",
        "  2. Item 2\n",
        "  3. Item 3\n",
        "\n",
        "this is a link: [link name](https://www.google.com/)\n",
        "\n",
        "\n",
        "this is a code block (we'll use in README files):\n",
        "\n",
        "\n",
        "```\n",
        "print(\"HELLO\")\n",
        "```"
      ],
      "metadata": {
        "id": "x1VXI9eRyBXX"
      }
    },
    {
      "cell_type": "code",
      "source": [
        "# This is some example Python code\n",
        "# These lines starting with \"#\" are \"comments\"\n",
        "# Remember \"#\" means something different in Markdown than it does in Python\n",
        "\n",
        "print(\"HELLO WORLD!\")\n",
        "\n",
        "x = 2 + 2\n",
        "print(x)"
      ],
      "metadata": {
        "colab": {
          "base_uri": "https://localhost:8080/"
        },
        "id": "UnCJINQyyhnY",
        "outputId": "4b7fba6c-6f0b-4378-a166-11f28de74a07"
      },
      "execution_count": null,
      "outputs": [
        {
          "output_type": "stream",
          "name": "stdout",
          "text": [
            "HELLO WORLD!\n",
            "4\n"
          ]
        }
      ]
    }
  ]
}